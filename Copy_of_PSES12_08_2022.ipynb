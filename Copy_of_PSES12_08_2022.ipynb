{
  "nbformat": 4,
  "nbformat_minor": 0,
  "metadata": {
    "colab": {
      "name": "Copy of PSES12-08-2022.ipynb",
      "provenance": []
    },
    "kernelspec": {
      "name": "python3",
      "display_name": "Python 3"
    },
    "language_info": {
      "name": "python"
    }
  },
  "cells": [
    {
      "cell_type": "markdown",
      "source": [
        "# ***INPUT AND OUTPUT***"
      ],
      "metadata": {
        "id": "WMcORerIeltU"
      }
    },
    {
      "cell_type": "markdown",
      "source": [
        "Write a code to get the input in the given format and print the output in the given format\n",
        "\n",
        "Input Description:\n",
        "To take an integer value\n",
        "\n",
        "Output Description:\n",
        "Print the integer value\n",
        "\n",
        "Sample Input :\n",
        "2\n",
        "\n",
        "Sample Output :\n",
        "2"
      ],
      "metadata": {
        "id": "DWlhSnWeeYKS"
      }
    },
    {
      "cell_type": "code",
      "execution_count": null,
      "metadata": {
        "colab": {
          "base_uri": "https://localhost:8080/"
        },
        "id": "gdOgRRhjdZnT",
        "outputId": "bc7ab7a1-a79a-4a95-9a81-bcec93b6c2e0"
      },
      "outputs": [
        {
          "output_type": "stream",
          "name": "stdout",
          "text": [
            "10\n",
            "10\n"
          ]
        }
      ],
      "source": [
        "A=int(input())\n",
        "print(A)"
      ]
    },
    {
      "cell_type": "code",
      "source": [
        "A=int(input())\n",
        "print(A)"
      ],
      "metadata": {
        "colab": {
          "base_uri": "https://localhost:8080/"
        },
        "id": "T2duzkISgIpr",
        "outputId": "230bab7e-fec8-4076-f80d-602a42cd03a0"
      },
      "execution_count": null,
      "outputs": [
        {
          "output_type": "stream",
          "name": "stdout",
          "text": [
            "50\n",
            "50\n"
          ]
        }
      ]
    },
    {
      "cell_type": "markdown",
      "source": [
        "# BASICS PYTHON\n",
        "\n",
        "\n"
      ],
      "metadata": {
        "id": "-RWxdKPZf_zu"
      }
    },
    {
      "cell_type": "code",
      "source": [
        "#Variable\n",
        "\n",
        "A=50\n",
        "A='Guvi'\n",
        "A=3.14\n",
        "A=[1,2,3,4,5]\n",
        "user_inputs=5\n",
        "UserInput=50\n",
        "Age=25\n",
        "weight=50\n",
        "user_2=50\n",
        "List=80\n",
        "A=25\n",
        "B=30\n",
        "print(A+B)"
      ],
      "metadata": {
        "colab": {
          "base_uri": "https://localhost:8080/"
        },
        "id": "OBqO8v4xfOUd",
        "outputId": "f8c5f805-1343-46e3-de7f-8d621abf44bc"
      },
      "execution_count": null,
      "outputs": [
        {
          "output_type": "stream",
          "name": "stdout",
          "text": [
            "55\n"
          ]
        }
      ]
    },
    {
      "cell_type": "markdown",
      "source": [
        "Data Types"
      ],
      "metadata": {
        "id": "mqjxNG3IjczK"
      }
    },
    {
      "cell_type": "code",
      "source": [
        "I=50  #Int  Adhar, Mobile, Age,Account Num,OTP\n",
        "I=-50 #Int\n",
        "\n",
        "F=3.14 # Float  Temp, Height, Price, Weight, Distance, Marks,CGPA,\n",
        "F=-3.14 # Float \n",
        "\n",
        "\n",
        "S='50'  #\n",
        "S=\"50\"  #\n",
        "S=\"Guvi\" #\n",
        "S='!@#$%^&*()'# String is a Group of char\n",
        "\n",
        "true=50\n",
        "B=True #Bool,1 ON,Start,Open,Head,Yes,Pass\n",
        "B=False #Bool,0,OFF,Stop,Close,Tail,No,Fail"
      ],
      "metadata": {
        "id": "xbTsxkREhDAX"
      },
      "execution_count": null,
      "outputs": []
    },
    {
      "cell_type": "code",
      "source": [
        "5==5"
      ],
      "metadata": {
        "colab": {
          "base_uri": "https://localhost:8080/"
        },
        "id": "T-CSuN6bnf1p",
        "outputId": "c862544c-86f0-48b6-f583-e65a5fef4f75"
      },
      "execution_count": null,
      "outputs": [
        {
          "output_type": "execute_result",
          "data": {
            "text/plain": [
              "True"
            ]
          },
          "metadata": {},
          "execution_count": 10
        }
      ]
    },
    {
      "cell_type": "code",
      "source": [
        "5=='5'"
      ],
      "metadata": {
        "colab": {
          "base_uri": "https://localhost:8080/"
        },
        "id": "vAE01UaSnlQf",
        "outputId": "741d2e23-ed26-4a55-f506-b603f44c89fd"
      },
      "execution_count": null,
      "outputs": [
        {
          "output_type": "execute_result",
          "data": {
            "text/plain": [
              "False"
            ]
          },
          "metadata": {},
          "execution_count": 11
        }
      ]
    },
    {
      "cell_type": "code",
      "source": [
        ""
      ],
      "metadata": {
        "id": "SsKLA39QEZVn"
      },
      "execution_count": null,
      "outputs": []
    },
    {
      "cell_type": "code",
      "source": [
        ""
      ],
      "metadata": {
        "id": "stOtTUCM6-yt"
      },
      "execution_count": null,
      "outputs": []
    },
    {
      "cell_type": "markdown",
      "source": [
        "# Data Structures \n",
        "\n",
        "list, Tuple, Set and Dictionary "
      ],
      "metadata": {
        "id": "mLklCCndn9z0"
      }
    },
    {
      "cell_type": "code",
      "source": [
        "#List \n",
        "\n",
        "L=[5,3.14,'Guvi',True,[10,20,30,40]] #List can contain any data types or data structure \n",
        "\n",
        "  #0   1    2      3         4     #index   Add,Remove, Manipulate (List is a Mutable)\n",
        "\n",
        "\n",
        "print(L[0])\n"
      ],
      "metadata": {
        "colab": {
          "base_uri": "https://localhost:8080/"
        },
        "id": "3Jtt1Ddrnqi8",
        "outputId": "3c076bf8-f500-4915-a9fd-8d8e7eb14dbe"
      },
      "execution_count": null,
      "outputs": [
        {
          "output_type": "stream",
          "name": "stdout",
          "text": [
            "5\n"
          ]
        }
      ]
    },
    {
      "cell_type": "code",
      "source": [
        "print(L[4])"
      ],
      "metadata": {
        "colab": {
          "base_uri": "https://localhost:8080/"
        },
        "id": "6ILcS1p4qYzA",
        "outputId": "d8822d16-8075-4062-dd63-80b4deeb8bea"
      },
      "execution_count": null,
      "outputs": [
        {
          "output_type": "stream",
          "name": "stdout",
          "text": [
            "[10, 20, 30, 40]\n"
          ]
        }
      ]
    },
    {
      "cell_type": "code",
      "source": [
        "print(L[4][0])"
      ],
      "metadata": {
        "colab": {
          "base_uri": "https://localhost:8080/"
        },
        "id": "tHDqxTuGq_gX",
        "outputId": "cfb5b2b6-e670-4eca-fa23-23bb001b1437"
      },
      "execution_count": null,
      "outputs": [
        {
          "output_type": "stream",
          "name": "stdout",
          "text": [
            "10\n"
          ]
        }
      ]
    },
    {
      "cell_type": "code",
      "source": [
        "#Tuple\n",
        "\n",
        "T=(5,3.14,'Guvi',True,[10,20,30,40])  #Tuple contain any data types or data structure #Immutable \n",
        "\n",
        "print(T[2])"
      ],
      "metadata": {
        "colab": {
          "base_uri": "https://localhost:8080/"
        },
        "id": "OqXT8N2ErDId",
        "outputId": "aa5b18e1-ea09-406c-d868-a9de0536447a"
      },
      "execution_count": null,
      "outputs": [
        {
          "output_type": "stream",
          "name": "stdout",
          "text": [
            "Guvi\n"
          ]
        }
      ]
    },
    {
      "cell_type": "code",
      "source": [
        "passed_student=('Sachin','EEE',2010,'A') #Tuple\n",
        "\n",
        "present_student=['Dhoni','ECE','II-A','B'] #list"
      ],
      "metadata": {
        "id": "-3F8GapNrwJG"
      },
      "execution_count": null,
      "outputs": []
    },
    {
      "cell_type": "code",
      "source": [
        "dir(list)"
      ],
      "metadata": {
        "colab": {
          "base_uri": "https://localhost:8080/"
        },
        "id": "-XZAbsHVtAaU",
        "outputId": "a8ecfc15-9b18-41cb-9c01-0fed7fd5405f"
      },
      "execution_count": null,
      "outputs": [
        {
          "output_type": "execute_result",
          "data": {
            "text/plain": [
              "['__add__',\n",
              " '__class__',\n",
              " '__contains__',\n",
              " '__delattr__',\n",
              " '__delitem__',\n",
              " '__dir__',\n",
              " '__doc__',\n",
              " '__eq__',\n",
              " '__format__',\n",
              " '__ge__',\n",
              " '__getattribute__',\n",
              " '__getitem__',\n",
              " '__gt__',\n",
              " '__hash__',\n",
              " '__iadd__',\n",
              " '__imul__',\n",
              " '__init__',\n",
              " '__init_subclass__',\n",
              " '__iter__',\n",
              " '__le__',\n",
              " '__len__',\n",
              " '__lt__',\n",
              " '__mul__',\n",
              " '__ne__',\n",
              " '__new__',\n",
              " '__reduce__',\n",
              " '__reduce_ex__',\n",
              " '__repr__',\n",
              " '__reversed__',\n",
              " '__rmul__',\n",
              " '__setattr__',\n",
              " '__setitem__',\n",
              " '__sizeof__',\n",
              " '__str__',\n",
              " '__subclasshook__',\n",
              " 'append',\n",
              " 'clear',\n",
              " 'copy',\n",
              " 'count',\n",
              " 'extend',\n",
              " 'index',\n",
              " 'insert',\n",
              " 'pop',\n",
              " 'remove',\n",
              " 'reverse',\n",
              " 'sort']"
            ]
          },
          "metadata": {},
          "execution_count": 17
        }
      ]
    },
    {
      "cell_type": "code",
      "source": [
        "dir(tuple)"
      ],
      "metadata": {
        "colab": {
          "base_uri": "https://localhost:8080/"
        },
        "id": "HO7HVFZdtICY",
        "outputId": "820f3064-306c-4f2e-b5be-0623b63e732a"
      },
      "execution_count": null,
      "outputs": [
        {
          "output_type": "execute_result",
          "data": {
            "text/plain": [
              "['__add__',\n",
              " '__class__',\n",
              " '__contains__',\n",
              " '__delattr__',\n",
              " '__dir__',\n",
              " '__doc__',\n",
              " '__eq__',\n",
              " '__format__',\n",
              " '__ge__',\n",
              " '__getattribute__',\n",
              " '__getitem__',\n",
              " '__getnewargs__',\n",
              " '__gt__',\n",
              " '__hash__',\n",
              " '__init__',\n",
              " '__init_subclass__',\n",
              " '__iter__',\n",
              " '__le__',\n",
              " '__len__',\n",
              " '__lt__',\n",
              " '__mul__',\n",
              " '__ne__',\n",
              " '__new__',\n",
              " '__reduce__',\n",
              " '__reduce_ex__',\n",
              " '__repr__',\n",
              " '__rmul__',\n",
              " '__setattr__',\n",
              " '__sizeof__',\n",
              " '__str__',\n",
              " '__subclasshook__',\n",
              " 'count',\n",
              " 'index']"
            ]
          },
          "metadata": {},
          "execution_count": 18
        }
      ]
    },
    {
      "cell_type": "code",
      "source": [
        "S=(1,2,4,5,1,3,8,9,1,5,6)\n",
        "print(S.index(6))  # find the position \n",
        "\n",
        "print(S[2]) # Find the Value\n"
      ],
      "metadata": {
        "colab": {
          "base_uri": "https://localhost:8080/"
        },
        "id": "dAsRoQ1ivb_9",
        "outputId": "75403878-52d6-4d69-c88b-c7b4c1112b8b"
      },
      "execution_count": null,
      "outputs": [
        {
          "output_type": "stream",
          "name": "stdout",
          "text": [
            "10\n",
            "4\n"
          ]
        }
      ]
    },
    {
      "cell_type": "code",
      "source": [
        "S.index(6)"
      ],
      "metadata": {
        "colab": {
          "base_uri": "https://localhost:8080/"
        },
        "id": "kRjbtixjww1T",
        "outputId": "7f4a4c02-55e6-4f7f-ae47-f7b817283db5"
      },
      "execution_count": null,
      "outputs": [
        {
          "output_type": "execute_result",
          "data": {
            "text/plain": [
              "10"
            ]
          },
          "metadata": {},
          "execution_count": 25
        }
      ]
    },
    {
      "cell_type": "code",
      "source": [
        "print()"
      ],
      "metadata": {
        "id": "VkXN_zOKvxkB"
      },
      "execution_count": null,
      "outputs": []
    },
    {
      "cell_type": "code",
      "source": [
        "dir(str)"
      ],
      "metadata": {
        "colab": {
          "base_uri": "https://localhost:8080/"
        },
        "id": "MOEAbPAEtQJP",
        "outputId": "af602660-fd9c-4b8e-de77-d99265a2d544"
      },
      "execution_count": null,
      "outputs": [
        {
          "output_type": "execute_result",
          "data": {
            "text/plain": [
              "['__add__',\n",
              " '__class__',\n",
              " '__contains__',\n",
              " '__delattr__',\n",
              " '__dir__',\n",
              " '__doc__',\n",
              " '__eq__',\n",
              " '__format__',\n",
              " '__ge__',\n",
              " '__getattribute__',\n",
              " '__getitem__',\n",
              " '__getnewargs__',\n",
              " '__gt__',\n",
              " '__hash__',\n",
              " '__init__',\n",
              " '__init_subclass__',\n",
              " '__iter__',\n",
              " '__le__',\n",
              " '__len__',\n",
              " '__lt__',\n",
              " '__mod__',\n",
              " '__mul__',\n",
              " '__ne__',\n",
              " '__new__',\n",
              " '__reduce__',\n",
              " '__reduce_ex__',\n",
              " '__repr__',\n",
              " '__rmod__',\n",
              " '__rmul__',\n",
              " '__setattr__',\n",
              " '__sizeof__',\n",
              " '__str__',\n",
              " '__subclasshook__',\n",
              " 'capitalize',\n",
              " 'casefold',\n",
              " 'center',\n",
              " 'count',\n",
              " 'encode',\n",
              " 'endswith',\n",
              " 'expandtabs',\n",
              " 'find',\n",
              " 'format',\n",
              " 'format_map',\n",
              " 'index',\n",
              " 'isalnum',\n",
              " 'isalpha',\n",
              " 'isascii',\n",
              " 'isdecimal',\n",
              " 'isdigit',\n",
              " 'isidentifier',\n",
              " 'islower',\n",
              " 'isnumeric',\n",
              " 'isprintable',\n",
              " 'isspace',\n",
              " 'istitle',\n",
              " 'isupper',\n",
              " 'join',\n",
              " 'ljust',\n",
              " 'lower',\n",
              " 'lstrip',\n",
              " 'maketrans',\n",
              " 'partition',\n",
              " 'replace',\n",
              " 'rfind',\n",
              " 'rindex',\n",
              " 'rjust',\n",
              " 'rpartition',\n",
              " 'rsplit',\n",
              " 'rstrip',\n",
              " 'split',\n",
              " 'splitlines',\n",
              " 'startswith',\n",
              " 'strip',\n",
              " 'swapcase',\n",
              " 'title',\n",
              " 'translate',\n",
              " 'upper',\n",
              " 'zfill']"
            ]
          },
          "metadata": {},
          "execution_count": 19
        }
      ]
    },
    {
      "cell_type": "code",
      "source": [
        "#Set\n",
        "\n",
        "S={1,2,4,7,9,1,4,6,3,1,2,1,4,7,5} #Set will not allow duplicate , Set is an un order, Set you cant access data\n",
        "\n",
        "S"
      ],
      "metadata": {
        "id": "fY7S9eGTvOnO",
        "colab": {
          "base_uri": "https://localhost:8080/"
        },
        "outputId": "32b40afc-8fe5-42ed-fd12-51e87d711ee8"
      },
      "execution_count": null,
      "outputs": [
        {
          "output_type": "execute_result",
          "data": {
            "text/plain": [
              "{1, 2, 3, 4, 5, 6, 7, 9}"
            ]
          },
          "metadata": {},
          "execution_count": 14
        }
      ]
    },
    {
      "cell_type": "code",
      "source": [
        "S[4]"
      ],
      "metadata": {
        "colab": {
          "base_uri": "https://localhost:8080/",
          "height": 167
        },
        "id": "sgS6P4dEII2a",
        "outputId": "9d9726e1-3458-436f-9311-26920e8a1d97"
      },
      "execution_count": null,
      "outputs": [
        {
          "output_type": "error",
          "ename": "TypeError",
          "evalue": "ignored",
          "traceback": [
            "\u001b[0;31m---------------------------------------------------------------------------\u001b[0m",
            "\u001b[0;31mTypeError\u001b[0m                                 Traceback (most recent call last)",
            "\u001b[0;32m<ipython-input-15-e50e0d1ed9c5>\u001b[0m in \u001b[0;36m<module>\u001b[0;34m()\u001b[0m\n\u001b[0;32m----> 1\u001b[0;31m \u001b[0mS\u001b[0m\u001b[0;34m[\u001b[0m\u001b[0;36m4\u001b[0m\u001b[0;34m]\u001b[0m\u001b[0;34m\u001b[0m\u001b[0;34m\u001b[0m\u001b[0m\n\u001b[0m",
            "\u001b[0;31mTypeError\u001b[0m: 'set' object is not subscriptable"
          ]
        }
      ]
    },
    {
      "cell_type": "code",
      "source": [
        "S=list(S)\n",
        "S"
      ],
      "metadata": {
        "colab": {
          "base_uri": "https://localhost:8080/"
        },
        "id": "4o8ojB23HKsi",
        "outputId": "c43b5a04-8074-42b2-df55-2dd9c1373c42"
      },
      "execution_count": null,
      "outputs": [
        {
          "output_type": "execute_result",
          "data": {
            "text/plain": [
              "[1, 2, 3, 4, 5, 6, 7, 9]"
            ]
          },
          "metadata": {},
          "execution_count": 16
        }
      ]
    },
    {
      "cell_type": "code",
      "source": [
        "S[5]"
      ],
      "metadata": {
        "colab": {
          "base_uri": "https://localhost:8080/"
        },
        "id": "xtC_5hASHgR5",
        "outputId": "d4877d02-d21d-4121-bdb9-9ded9bb2d56e"
      },
      "execution_count": null,
      "outputs": [
        {
          "output_type": "execute_result",
          "data": {
            "text/plain": [
              "6"
            ]
          },
          "metadata": {},
          "execution_count": 17
        }
      ]
    },
    {
      "cell_type": "code",
      "source": [
        "Passport_num=['A25','A35','B40','C80','A25','A40','A25','B40','D11','C80'] #1000 , A25-2, B-40-1, C-80-1, \n",
        "\n",
        "len(Passport_num)\n"
      ],
      "metadata": {
        "colab": {
          "base_uri": "https://localhost:8080/"
        },
        "id": "IVnIv0hkH5sT",
        "outputId": "0267b22e-8acb-4032-a5e3-84029bf8474d"
      },
      "execution_count": null,
      "outputs": [
        {
          "output_type": "execute_result",
          "data": {
            "text/plain": [
              "10"
            ]
          },
          "metadata": {},
          "execution_count": 18
        }
      ]
    },
    {
      "cell_type": "code",
      "source": [
        "No_Dup=set(Passport_num)\n",
        "print(No_Dup)\n",
        "print(\"No of unique values\",len(No_Dup))"
      ],
      "metadata": {
        "colab": {
          "base_uri": "https://localhost:8080/"
        },
        "id": "azKoQ9KZJC5S",
        "outputId": "00a5d612-5976-42e0-9057-d6cf05be49e8"
      },
      "execution_count": null,
      "outputs": [
        {
          "output_type": "stream",
          "name": "stdout",
          "text": [
            "{'D11', 'A35', 'B40', 'C80', 'A25', 'A40'}\n",
            "No of unique values 6\n"
          ]
        }
      ]
    },
    {
      "cell_type": "code",
      "source": [
        "print(\"Total No of Duplicates : \", len(Passport_num)-len(No_Dup))"
      ],
      "metadata": {
        "colab": {
          "base_uri": "https://localhost:8080/"
        },
        "id": "gLfQDtzSJM0A",
        "outputId": "b065273c-07d9-4a7a-e30e-cf76987a221c"
      },
      "execution_count": null,
      "outputs": [
        {
          "output_type": "stream",
          "name": "stdout",
          "text": [
            "Total No of Duplicates :  4\n"
          ]
        }
      ]
    },
    {
      "cell_type": "markdown",
      "source": [
        "list=[]\n",
        "tuple=()\n",
        "set={}\n",
        "dict={}\n",
        "\n",
        "function=()\n",
        "Access=[]"
      ],
      "metadata": {
        "id": "GgvC2P-rLIQQ"
      }
    },
    {
      "cell_type": "code",
      "source": [
        "#Dictionary \n",
        "\n",
        "D={'Name':'Sachin',\n",
        "   'Age':40,\n",
        "   'Salary':45000}\n",
        "D"
      ],
      "metadata": {
        "colab": {
          "base_uri": "https://localhost:8080/"
        },
        "id": "9R-Bt_6HJZKA",
        "outputId": "e71d7be7-320e-488a-ceaf-3530682f923c"
      },
      "execution_count": null,
      "outputs": [
        {
          "output_type": "execute_result",
          "data": {
            "text/plain": [
              "{'Age': 40, 'Name': 'Sachin', 'Salary': 45000}"
            ]
          },
          "metadata": {},
          "execution_count": 25
        }
      ]
    },
    {
      "cell_type": "code",
      "source": [
        "D['Name']"
      ],
      "metadata": {
        "colab": {
          "base_uri": "https://localhost:8080/",
          "height": 35
        },
        "id": "-1PgLuLYLtxk",
        "outputId": "e4a3f940-b960-43c9-8a0f-6748e4a70cbc"
      },
      "execution_count": null,
      "outputs": [
        {
          "output_type": "execute_result",
          "data": {
            "text/plain": [
              "'Sachin'"
            ],
            "application/vnd.google.colaboratory.intrinsic+json": {
              "type": "string"
            }
          },
          "metadata": {},
          "execution_count": 27
        }
      ]
    },
    {
      "cell_type": "code",
      "source": [
        "Emp={'Emp_ID':[14,25,7,89,63],\n",
        "     'Name':['Raina','Rohit','Dhoni','Sachin','Virat'],\n",
        "     'Age':[30,29,35,42,32],\n",
        "     \"Salary\":[30000,32000,40000,45000,35000]}\n",
        "\n",
        "Emp"
      ],
      "metadata": {
        "colab": {
          "base_uri": "https://localhost:8080/"
        },
        "id": "RpC7YQHcL4bR",
        "outputId": "eca74973-e135-46a8-a5f8-b943a9127e19"
      },
      "execution_count": null,
      "outputs": [
        {
          "output_type": "execute_result",
          "data": {
            "text/plain": [
              "{'Age': [30, 29, 35, 42, 32],\n",
              " 'Emp_ID': [14, 25, 7, 89, 63],\n",
              " 'Name': ['Raina', 'Rohit', 'Dhoni', 'Sachin', 'Virat'],\n",
              " 'Salary': [30000, 32000, 40000, 45000, 35000]}"
            ]
          },
          "metadata": {},
          "execution_count": 28
        }
      ]
    },
    {
      "cell_type": "code",
      "source": [
        "Emp['Name'][3]"
      ],
      "metadata": {
        "colab": {
          "base_uri": "https://localhost:8080/",
          "height": 35
        },
        "id": "6nI46cpOMw_j",
        "outputId": "629bca8d-7e4d-4b14-ad8a-e936e1064693"
      },
      "execution_count": null,
      "outputs": [
        {
          "output_type": "execute_result",
          "data": {
            "text/plain": [
              "'Sachin'"
            ],
            "application/vnd.google.colaboratory.intrinsic+json": {
              "type": "string"
            }
          },
          "metadata": {},
          "execution_count": 29
        }
      ]
    },
    {
      "cell_type": "code",
      "source": [
        "print('Emp-Id : ',Emp['Emp_ID'][3])\n",
        "print('Name : ',Emp['Name'][3])\n",
        "print('Age : ',Emp['Age'][3])\n",
        "print('Salary : ',Emp['Salary'][3])"
      ],
      "metadata": {
        "colab": {
          "base_uri": "https://localhost:8080/"
        },
        "id": "TrVH9fSCNPgL",
        "outputId": "bbdeef4c-7703-4a57-e01e-350629848dfa"
      },
      "execution_count": null,
      "outputs": [
        {
          "output_type": "stream",
          "name": "stdout",
          "text": [
            "Emp-Id :  89\n",
            "Name :  Sachin\n",
            "Age :  42\n",
            "Salary :  45000\n"
          ]
        }
      ]
    },
    {
      "cell_type": "code",
      "source": [
        "Emp['Emp_ID'].index(89)"
      ],
      "metadata": {
        "colab": {
          "base_uri": "https://localhost:8080/"
        },
        "id": "TDQ8O5NmOUkZ",
        "outputId": "e4a0fd66-8744-450c-d48d-6ffbdc014cfb"
      },
      "execution_count": null,
      "outputs": [
        {
          "output_type": "execute_result",
          "data": {
            "text/plain": [
              "3"
            ]
          },
          "metadata": {},
          "execution_count": 33
        }
      ]
    },
    {
      "cell_type": "code",
      "source": [
        "S=[1,2,3,4,5,6]\n",
        "\n",
        "S.index(5)"
      ],
      "metadata": {
        "colab": {
          "base_uri": "https://localhost:8080/"
        },
        "id": "qc_2INLOQsbb",
        "outputId": "9253de60-6eae-49f1-82d0-cdcd642c1a87"
      },
      "execution_count": null,
      "outputs": [
        {
          "output_type": "execute_result",
          "data": {
            "text/plain": [
              "4"
            ]
          },
          "metadata": {},
          "execution_count": 42
        }
      ]
    },
    {
      "cell_type": "code",
      "source": [
        "id=int(input('Enter the Emp-Id : ')) #63\n",
        "\n",
        "pos=Emp['Emp_ID'].index(id) #4\n",
        "\n",
        "print(f'Index of {id}:',pos)\n",
        "\n",
        "print('Emp-Id : ',Emp['Emp_ID'][pos]) #63\n",
        "print('Name : ',Emp['Name'][pos]) #Virat\n",
        "print('Age : ',Emp['Age'][pos])#32\n",
        "print('Salary : ',Emp['Salary'][pos]) #35000"
      ],
      "metadata": {
        "colab": {
          "base_uri": "https://localhost:8080/"
        },
        "id": "TaUGr-XVNrPa",
        "outputId": "fc499037-2861-4950-fde0-a3728ecc9a11"
      },
      "execution_count": null,
      "outputs": [
        {
          "output_type": "stream",
          "name": "stdout",
          "text": [
            "Enter the Emp-Id : 63\n",
            "Index of 63: 4\n",
            "Emp-Id :  63\n",
            "Name :  Virat\n",
            "Age :  32\n",
            "Salary :  35000\n"
          ]
        }
      ]
    },
    {
      "cell_type": "code",
      "source": [
        "Name = input(\"Enter Your Name : \")\n",
        "Age=int(input(\"Enter the Age : \"))\n",
        "\n",
        "print(f'My Name is {Name} and My Age is {Age}')"
      ],
      "metadata": {
        "colab": {
          "base_uri": "https://localhost:8080/"
        },
        "id": "j59jOdZrOj2C",
        "outputId": "e4e75e1d-337c-4337-cf9b-0f9153f73d48"
      },
      "execution_count": null,
      "outputs": [
        {
          "output_type": "stream",
          "name": "stdout",
          "text": [
            "Enter Your Name : Sachin\n",
            "Enter the Age : 45\n",
            "My Name is Sachin and My Age is 45\n"
          ]
        }
      ]
    },
    {
      "cell_type": "markdown",
      "source": [
        "#Input and Output"
      ],
      "metadata": {
        "id": "4F61xHufQ6_a"
      }
    },
    {
      "cell_type": "code",
      "source": [
        "# 5 / 5 o/p\n",
        "\n",
        "A=int(input())\n",
        "print(A)\n",
        "print(type(A))"
      ],
      "metadata": {
        "colab": {
          "base_uri": "https://localhost:8080/"
        },
        "id": "_50_A4YbQOrq",
        "outputId": "d79a0b36-0039-4e96-9ab8-c7bffda761c9"
      },
      "execution_count": null,
      "outputs": [
        {
          "output_type": "stream",
          "name": "stdout",
          "text": [
            "5\n",
            "5\n",
            "<class 'int'>\n"
          ]
        }
      ]
    },
    {
      "cell_type": "code",
      "source": [
        "A=input()\n",
        "print(A)\n",
        "print(type(A))"
      ],
      "metadata": {
        "colab": {
          "base_uri": "https://localhost:8080/"
        },
        "id": "Z9lO-cCGRVki",
        "outputId": "b935930d-c4c4-436b-91f3-ae3a9a7440a3"
      },
      "execution_count": null,
      "outputs": [
        {
          "output_type": "stream",
          "name": "stdout",
          "text": [
            "5\n",
            "5\n",
            "<class 'str'>\n"
          ]
        }
      ]
    },
    {
      "cell_type": "code",
      "source": [
        "A=input()\n",
        "B=input()\n",
        "print(A+B)"
      ],
      "metadata": {
        "colab": {
          "base_uri": "https://localhost:8080/"
        },
        "id": "W7JpecUcRmbY",
        "outputId": "820645a5-ae39-4494-d189-11d8f55dde0f"
      },
      "execution_count": null,
      "outputs": [
        {
          "output_type": "stream",
          "name": "stdout",
          "text": [
            "55\n",
            "10\n",
            "5510\n"
          ]
        }
      ]
    },
    {
      "cell_type": "code",
      "source": [
        "A=int(input())\n",
        "B=int(input())\n",
        "print(A+B)"
      ],
      "metadata": {
        "colab": {
          "base_uri": "https://localhost:8080/"
        },
        "id": "ha5m8injRzzE",
        "outputId": "e89f3026-292a-4432-eaca-9cf992593c84"
      },
      "execution_count": null,
      "outputs": [
        {
          "output_type": "stream",
          "name": "stdout",
          "text": [
            "55\n",
            "10\n",
            "65\n"
          ]
        }
      ]
    },
    {
      "cell_type": "code",
      "source": [
        "A=int(input())\n",
        "B=input()\n",
        "print(A+B)"
      ],
      "metadata": {
        "colab": {
          "base_uri": "https://localhost:8080/",
          "height": 236
        },
        "id": "vnuKe2m2R_yx",
        "outputId": "03f0237b-5393-4e9a-a47e-5a9843aaa135"
      },
      "execution_count": null,
      "outputs": [
        {
          "name": "stdout",
          "output_type": "stream",
          "text": [
            "10\n",
            "5\n"
          ]
        },
        {
          "output_type": "error",
          "ename": "TypeError",
          "evalue": "ignored",
          "traceback": [
            "\u001b[0;31m---------------------------------------------------------------------------\u001b[0m",
            "\u001b[0;31mTypeError\u001b[0m                                 Traceback (most recent call last)",
            "\u001b[0;32m<ipython-input-49-041cd5177f8b>\u001b[0m in \u001b[0;36m<module>\u001b[0;34m()\u001b[0m\n\u001b[1;32m      1\u001b[0m \u001b[0mA\u001b[0m\u001b[0;34m=\u001b[0m\u001b[0mint\u001b[0m\u001b[0;34m(\u001b[0m\u001b[0minput\u001b[0m\u001b[0;34m(\u001b[0m\u001b[0;34m)\u001b[0m\u001b[0;34m)\u001b[0m\u001b[0;34m\u001b[0m\u001b[0;34m\u001b[0m\u001b[0m\n\u001b[1;32m      2\u001b[0m \u001b[0mB\u001b[0m\u001b[0;34m=\u001b[0m\u001b[0minput\u001b[0m\u001b[0;34m(\u001b[0m\u001b[0;34m)\u001b[0m\u001b[0;34m\u001b[0m\u001b[0;34m\u001b[0m\u001b[0m\n\u001b[0;32m----> 3\u001b[0;31m \u001b[0mprint\u001b[0m\u001b[0;34m(\u001b[0m\u001b[0mA\u001b[0m\u001b[0;34m+\u001b[0m\u001b[0mB\u001b[0m\u001b[0;34m)\u001b[0m\u001b[0;34m\u001b[0m\u001b[0;34m\u001b[0m\u001b[0m\n\u001b[0m",
            "\u001b[0;31mTypeError\u001b[0m: unsupported operand type(s) for +: 'int' and 'str'"
          ]
        }
      ]
    },
    {
      "cell_type": "code",
      "source": [
        "A=int(input())\n",
        "B=input()\n",
        "print(A*B)"
      ],
      "metadata": {
        "colab": {
          "base_uri": "https://localhost:8080/"
        },
        "id": "AjEdG1MdSFc6",
        "outputId": "4cab93cd-e96c-4441-f656-45c7008f8d04"
      },
      "execution_count": null,
      "outputs": [
        {
          "output_type": "stream",
          "name": "stdout",
          "text": [
            "5\n",
            "guvi \n",
            "guvi guvi guvi guvi guvi \n"
          ]
        }
      ]
    },
    {
      "cell_type": "code",
      "source": [
        "#1 2 3 4 5 / 1 2 3 4 5 o/p\n",
        "\n",
        "A=input()\n",
        "print(A)\n",
        "print(type(A))"
      ],
      "metadata": {
        "colab": {
          "base_uri": "https://localhost:8080/"
        },
        "id": "RBj-gOUhSN6L",
        "outputId": "5e603e0b-c366-478c-c198-3c0fd25fbd45"
      },
      "execution_count": null,
      "outputs": [
        {
          "output_type": "stream",
          "name": "stdout",
          "text": [
            "1 2 3 4 5\n",
            "1 2 3 4 5\n",
            "<class 'str'>\n"
          ]
        }
      ]
    },
    {
      "cell_type": "code",
      "source": [
        "A=int(input())\n",
        "print(A)\n",
        "print(type(A))"
      ],
      "metadata": {
        "colab": {
          "base_uri": "https://localhost:8080/",
          "height": 219
        },
        "id": "8NYelskHSrgU",
        "outputId": "2476d60f-92e5-475e-b990-c1bfd183ab58"
      },
      "execution_count": null,
      "outputs": [
        {
          "name": "stdout",
          "output_type": "stream",
          "text": [
            "1 2 3 4 5\n"
          ]
        },
        {
          "output_type": "error",
          "ename": "ValueError",
          "evalue": "ignored",
          "traceback": [
            "\u001b[0;31m---------------------------------------------------------------------------\u001b[0m",
            "\u001b[0;31mValueError\u001b[0m                                Traceback (most recent call last)",
            "\u001b[0;32m<ipython-input-53-8dec9ca2dd64>\u001b[0m in \u001b[0;36m<module>\u001b[0;34m()\u001b[0m\n\u001b[0;32m----> 1\u001b[0;31m \u001b[0mA\u001b[0m\u001b[0;34m=\u001b[0m\u001b[0mint\u001b[0m\u001b[0;34m(\u001b[0m\u001b[0minput\u001b[0m\u001b[0;34m(\u001b[0m\u001b[0;34m)\u001b[0m\u001b[0;34m)\u001b[0m\u001b[0;34m\u001b[0m\u001b[0;34m\u001b[0m\u001b[0m\n\u001b[0m\u001b[1;32m      2\u001b[0m \u001b[0mprint\u001b[0m\u001b[0;34m(\u001b[0m\u001b[0mA\u001b[0m\u001b[0;34m)\u001b[0m\u001b[0;34m\u001b[0m\u001b[0;34m\u001b[0m\u001b[0m\n\u001b[1;32m      3\u001b[0m \u001b[0mprint\u001b[0m\u001b[0;34m(\u001b[0m\u001b[0mtype\u001b[0m\u001b[0;34m(\u001b[0m\u001b[0mA\u001b[0m\u001b[0;34m)\u001b[0m\u001b[0;34m)\u001b[0m\u001b[0;34m\u001b[0m\u001b[0;34m\u001b[0m\u001b[0m\n",
            "\u001b[0;31mValueError\u001b[0m: invalid literal for int() with base 10: '1 2 3 4 5'"
          ]
        }
      ]
    },
    {
      "cell_type": "code",
      "source": [
        "A=input().split(' ') # 1 2 3 4 5\n",
        "A"
      ],
      "metadata": {
        "colab": {
          "base_uri": "https://localhost:8080/"
        },
        "id": "vGtV_Hz0S5Gp",
        "outputId": "8d373c67-e131-4da5-be5f-78a5854a8ee7"
      },
      "execution_count": null,
      "outputs": [
        {
          "name": "stdout",
          "output_type": "stream",
          "text": [
            "1 2 3 4 5\n"
          ]
        },
        {
          "output_type": "execute_result",
          "data": {
            "text/plain": [
              "['1', '2', '3', '4', '5']"
            ]
          },
          "metadata": {},
          "execution_count": 80
        }
      ]
    },
    {
      "cell_type": "code",
      "source": [
        "def SQR(x):\n",
        "  return int(x)**2"
      ],
      "metadata": {
        "id": "L_xIxPXlTyva"
      },
      "execution_count": null,
      "outputs": []
    },
    {
      "cell_type": "code",
      "source": [
        "SQR(5)"
      ],
      "metadata": {
        "colab": {
          "base_uri": "https://localhost:8080/"
        },
        "id": "Ur6L-88AU0PS",
        "outputId": "a545f86c-0e74-4a8a-8b3e-1453ec6151e5"
      },
      "execution_count": null,
      "outputs": [
        {
          "output_type": "execute_result",
          "data": {
            "text/plain": [
              "25"
            ]
          },
          "metadata": {},
          "execution_count": 66
        }
      ]
    },
    {
      "cell_type": "code",
      "source": [
        ""
      ],
      "metadata": {
        "id": "OMSjClnXe2QN"
      },
      "execution_count": null,
      "outputs": []
    },
    {
      "cell_type": "code",
      "source": [
        "B=list(map(int,A))\n",
        "print(B)"
      ],
      "metadata": {
        "colab": {
          "base_uri": "https://localhost:8080/"
        },
        "id": "u6wkXTSUTRqp",
        "outputId": "e59e4ab1-f9b6-485d-9357-2cf9f01ce991"
      },
      "execution_count": null,
      "outputs": [
        {
          "output_type": "stream",
          "name": "stdout",
          "text": [
            "[1, 2, 3, 4, 5]\n"
          ]
        }
      ]
    },
    {
      "cell_type": "code",
      "source": [
        "print(*B)"
      ],
      "metadata": {
        "colab": {
          "base_uri": "https://localhost:8080/"
        },
        "id": "UPzatOBgUauH",
        "outputId": "fd2e3406-a620-44f3-b11c-104dafcc3981"
      },
      "execution_count": null,
      "outputs": [
        {
          "output_type": "stream",
          "name": "stdout",
          "text": [
            "1 2 3 4 5\n"
          ]
        }
      ]
    },
    {
      "cell_type": "code",
      "source": [
        "print(B)\n",
        "print(A)"
      ],
      "metadata": {
        "colab": {
          "base_uri": "https://localhost:8080/"
        },
        "id": "tSBsjFMTWhzF",
        "outputId": "c41424ec-8289-4169-c886-d65eb7de7260"
      },
      "execution_count": null,
      "outputs": [
        {
          "output_type": "stream",
          "name": "stdout",
          "text": [
            "[1, 2, 3, 4, 5]\n",
            "['1', '2', '3', '4', '5']\n"
          ]
        }
      ]
    },
    {
      "cell_type": "code",
      "source": [
        "print(' '.join(A)) #1*2*3*4*5"
      ],
      "metadata": {
        "colab": {
          "base_uri": "https://localhost:8080/"
        },
        "id": "2khBvPJSWnfH",
        "outputId": "2d52a4c8-7c03-4a70-c4ef-3e30bc998a98"
      },
      "execution_count": null,
      "outputs": [
        {
          "output_type": "stream",
          "name": "stdout",
          "text": [
            "1 2 3 4 5\n"
          ]
        }
      ]
    },
    {
      "cell_type": "code",
      "source": [
        "print(' '.join(B))"
      ],
      "metadata": {
        "colab": {
          "base_uri": "https://localhost:8080/",
          "height": 167
        },
        "id": "JsVzjg0iWs_4",
        "outputId": "c1a7da35-6bc2-4f21-d934-bad2db91ecba"
      },
      "execution_count": null,
      "outputs": [
        {
          "output_type": "error",
          "ename": "TypeError",
          "evalue": "ignored",
          "traceback": [
            "\u001b[0;31m---------------------------------------------------------------------------\u001b[0m",
            "\u001b[0;31mTypeError\u001b[0m                                 Traceback (most recent call last)",
            "\u001b[0;32m<ipython-input-89-18502ba7a45e>\u001b[0m in \u001b[0;36m<module>\u001b[0;34m()\u001b[0m\n\u001b[0;32m----> 1\u001b[0;31m \u001b[0mprint\u001b[0m\u001b[0;34m(\u001b[0m\u001b[0;34m' '\u001b[0m\u001b[0;34m.\u001b[0m\u001b[0mjoin\u001b[0m\u001b[0;34m(\u001b[0m\u001b[0mB\u001b[0m\u001b[0;34m)\u001b[0m\u001b[0;34m)\u001b[0m\u001b[0;34m\u001b[0m\u001b[0;34m\u001b[0m\u001b[0m\n\u001b[0m",
            "\u001b[0;31mTypeError\u001b[0m: sequence item 0: expected str instance, int found"
          ]
        }
      ]
    },
    {
      "cell_type": "code",
      "source": [
        "print(*B)"
      ],
      "metadata": {
        "colab": {
          "base_uri": "https://localhost:8080/"
        },
        "id": "1c2sUbIsXBKY",
        "outputId": "57adb17a-4349-449c-8948-8507b82f81c3"
      },
      "execution_count": null,
      "outputs": [
        {
          "output_type": "stream",
          "name": "stdout",
          "text": [
            "1 2 3 4 5\n"
          ]
        }
      ]
    },
    {
      "cell_type": "code",
      "source": [
        "A=input().split(' ')\n",
        "B=list(map(int,A))\n",
        "print(*B)"
      ],
      "metadata": {
        "colab": {
          "base_uri": "https://localhost:8080/"
        },
        "id": "21i5VQ5FXOGG",
        "outputId": "abee24aa-ce40-41f3-ec03-7d639a846fb0"
      },
      "execution_count": null,
      "outputs": [
        {
          "output_type": "stream",
          "name": "stdout",
          "text": [
            "1 2 3 4 5\n",
            "1 2 3 4 5\n"
          ]
        }
      ]
    },
    {
      "cell_type": "code",
      "source": [
        "A=list(map(int,input().split()))\n",
        "print(*A)"
      ],
      "metadata": {
        "colab": {
          "base_uri": "https://localhost:8080/"
        },
        "id": "LjQWmwScYOeD",
        "outputId": "b93af3ed-e289-4ad8-d910-0796cb757499"
      },
      "execution_count": null,
      "outputs": [
        {
          "output_type": "stream",
          "name": "stdout",
          "text": [
            "2 3 4 5 6\n",
            "2 3 4 5 6\n"
          ]
        }
      ]
    },
    {
      "cell_type": "code",
      "source": [
        "A=list(map(int,input().split()))\n",
        "B=list(map(int,input().split()))\n",
        "\n",
        "print(*A)\n",
        "print(*B)"
      ],
      "metadata": {
        "colab": {
          "base_uri": "https://localhost:8080/"
        },
        "id": "zCz7prNXZaW8",
        "outputId": "c34318f2-f452-49b8-e5fb-58749e28b45f"
      },
      "execution_count": null,
      "outputs": [
        {
          "output_type": "stream",
          "name": "stdout",
          "text": [
            "5 6\n",
            "7 8 9 4 6\n",
            "5 6\n",
            "7 8 9 4 6\n"
          ]
        }
      ]
    },
    {
      "cell_type": "markdown",
      "source": [
        "Conditional statment\n",
        "\n",
        "if, else and elif"
      ],
      "metadata": {
        "id": "rV12iW83Zweg"
      }
    },
    {
      "cell_type": "code",
      "source": [
        "# Age>=14 and weight >=45\n",
        "\n",
        "Name=input('Enter your Name : ')\n",
        "Age=int(input('Enter Your Age : '))\n",
        "Wt=float(input('Enter Your Weight : '))\n",
        "\n",
        "if Age>=14 and Wt>=45:\n",
        "  print(Name,'You are Eligible for Ride')\n",
        "\n",
        "else:\n",
        "  print(Name,'You are Not Eligible for Ride')"
      ],
      "metadata": {
        "colab": {
          "base_uri": "https://localhost:8080/"
        },
        "id": "_6NGp8c8ZcVT",
        "outputId": "6770d88a-2a93-4de3-9c4d-069c5fc8d315"
      },
      "execution_count": null,
      "outputs": [
        {
          "output_type": "stream",
          "name": "stdout",
          "text": [
            "Enter your Name : Ram\n",
            "Enter Your Age : 16\n",
            "Enter Your Weight : 40\n",
            "Ram You are Not Eligible for Ride\n"
          ]
        }
      ]
    },
    {
      "cell_type": "code",
      "source": [
        "Name=input('Enter your Name : ')\n",
        "Age=int(input('Enter Your Age : '))\n",
        "\n",
        "if Age>=14:\n",
        "  Wt=float(input('Enter Your Weight : '))\n",
        "\n",
        "  if Wt>=45:\n",
        "    print(Name,'You are Eligible for Ride')\n",
        "  else:\n",
        "    print(Name,'You are Not Eligible  for Ride because you are under weight')\n",
        "\n",
        "\n",
        "else:\n",
        "  print(Name,'You are Not Eligible  for Ride because you are under Age')"
      ],
      "metadata": {
        "colab": {
          "base_uri": "https://localhost:8080/"
        },
        "id": "MWhG5xYHbJFs",
        "outputId": "04c59254-b933-455f-f0c9-e27ced224ad1"
      },
      "execution_count": null,
      "outputs": [
        {
          "output_type": "stream",
          "name": "stdout",
          "text": [
            "Enter your Name : Sita\n",
            "Enter Your Age : 24\n",
            "Enter Your Weight : 47\n",
            "Sita You are Eligible for Ride\n"
          ]
        }
      ]
    },
    {
      "cell_type": "code",
      "source": [
        "Student_Name=input('Enter Student Name : ')\n",
        "Mark=float(input(\"Enter the Mark : \"))\n",
        "\n",
        "\n",
        "#90> A, 80>B, 70>C, 60>D, 50>E , 50<Fail  # less 0  or mark >100 Enter the valid mark\n",
        "\n",
        "if Mark>0 and Mark<=100:\n",
        "  if Mark>90 and Mark<100:\n",
        "    print(Student_Name,'You are Grade-A')\n",
        "\n",
        "  elif Mark>80 and Mark<=90:\n",
        "    print(Student_Name,'You are Grade-B')\n",
        "\n",
        "  elif Mark>70 and Mark<=80:\n",
        "    print(Student_Name,'You are Grade-C')\n",
        "\n",
        "  elif Mark>60 and Mark<=70:\n",
        "    print(Student_Name,'You are Grade-D')\n",
        "\n",
        "  elif Mark>50 and Mark<=60:\n",
        "    print(Student_Name,'You are Grade-E')\n",
        "\n",
        "  else:\n",
        "    print(Student_Name,'You are Fail')\n",
        "else:\n",
        "  print('Enter the valid Mark')\n"
      ],
      "metadata": {
        "id": "KBZUGBnMcddc",
        "colab": {
          "base_uri": "https://localhost:8080/"
        },
        "outputId": "4ba1f089-6fa9-461f-8441-8e9b4d57f799"
      },
      "execution_count": null,
      "outputs": [
        {
          "output_type": "stream",
          "name": "stdout",
          "text": [
            "Enter Student Name : Sachin\n",
            "Enter the Mark : 112\n",
            "Enter the valid Mark\n"
          ]
        }
      ]
    },
    {
      "cell_type": "code",
      "source": [
        "Student_Name=input('Enter Student Name : ')\n",
        "Mark=float(input(\"Enter the Mark : \"))\n",
        "\n",
        "\n",
        "if Mark>90 and Mark<=100:\n",
        "  print(Student_Name,'You are Grade-A')\n",
        "\n",
        "elif Mark>80 and Mark<=90:\n",
        "  print(Student_Name,'You are Grade-B')\n",
        "\n",
        "elif Mark>70 and Mark<=80:\n",
        "  print(Student_Name,'You are Grade-C')\n",
        "\n",
        "elif Mark>60 and Mark<=70:\n",
        "  print(Student_Name,'You are Grade-D')\n",
        "\n",
        "elif Mark>50 and Mark<=60:\n",
        "  print(Student_Name,'You are Grade-E')\n",
        "\n",
        "elif Mark>=0 and Mark<=50:\n",
        "  print(Student_Name,'You are Fail')\n",
        "\n",
        "else:\n",
        "  print('Enter Valid Mark')\n"
      ],
      "metadata": {
        "id": "h2VJzUCwfGNU",
        "colab": {
          "base_uri": "https://localhost:8080/"
        },
        "outputId": "776b3bab-e18d-485e-9146-17f994c011a1"
      },
      "execution_count": null,
      "outputs": [
        {
          "output_type": "stream",
          "name": "stdout",
          "text": [
            "Enter Student Name : Sachin\n",
            "Enter the Mark : -2\n",
            "Enter Valid Mark\n"
          ]
        }
      ]
    },
    {
      "cell_type": "markdown",
      "source": [
        "# LOOPS\n",
        "\n",
        "for loop and while loop"
      ],
      "metadata": {
        "id": "tOEs-6d_Xw1X"
      }
    },
    {
      "cell_type": "code",
      "source": [
        "Word=input()  #Guvi Geek Network\n",
        "\n",
        "for i in Word:\n",
        "  print(i)\n"
      ],
      "metadata": {
        "colab": {
          "base_uri": "https://localhost:8080/"
        },
        "id": "zJgLOp2TXV2O",
        "outputId": "001bb629-9acc-4707-feb6-f6a763ffb0d0"
      },
      "execution_count": null,
      "outputs": [
        {
          "output_type": "stream",
          "name": "stdout",
          "text": [
            "Guvi Geek Network\n",
            "G\n",
            "u\n",
            "v\n",
            "i\n",
            " \n",
            "G\n",
            "e\n",
            "e\n",
            "k\n",
            " \n",
            "N\n",
            "e\n",
            "t\n",
            "w\n",
            "o\n",
            "r\n",
            "k\n"
          ]
        }
      ]
    },
    {
      "cell_type": "code",
      "source": [
        "S=[1,2,3,4,5,6,7,8,9]\n",
        "\n",
        "\n",
        "for num in S:\n",
        "  print(num)"
      ],
      "metadata": {
        "colab": {
          "base_uri": "https://localhost:8080/"
        },
        "id": "QLEtbHL9aDLA",
        "outputId": "5d52ad33-618c-46e5-ed17-b875a6d03a1d"
      },
      "execution_count": null,
      "outputs": [
        {
          "output_type": "stream",
          "name": "stdout",
          "text": [
            "1\n",
            "2\n",
            "3\n",
            "4\n",
            "5\n",
            "6\n",
            "7\n",
            "8\n",
            "9\n"
          ]
        }
      ]
    },
    {
      "cell_type": "code",
      "source": [
        "A=53\n",
        "\n",
        "if A%2==0:\n",
        "  print('Even')\n",
        "else:\n",
        "  print('Odd')"
      ],
      "metadata": {
        "colab": {
          "base_uri": "https://localhost:8080/"
        },
        "id": "TMht1WPEbH_a",
        "outputId": "fcb25610-f543-4433-f62f-d99399eee57c"
      },
      "execution_count": null,
      "outputs": [
        {
          "output_type": "stream",
          "name": "stdout",
          "text": [
            "Odd\n"
          ]
        }
      ]
    },
    {
      "cell_type": "code",
      "source": [
        "S=[1,4,8,9,4,14,56,4,32,78,45,30,15,30,42,80,40,26]\n",
        "\n",
        "\n",
        "Even=[]\n",
        "Odd=[]\n",
        "\n",
        "for num in S:\n",
        "  if num%2==0:\n",
        "    Even.append(num)\n",
        "    print()\n",
        "  else:\n",
        "    Odd.append(num)\n",
        "  \n",
        "print(sorted(Even))\n",
        "print(sorted(Odd))\n"
      ],
      "metadata": {
        "colab": {
          "base_uri": "https://localhost:8080/"
        },
        "id": "qdkv2pyCabmJ",
        "outputId": "c8f306fe-68a4-446e-9d9c-56a0c9a20504"
      },
      "execution_count": null,
      "outputs": [
        {
          "output_type": "stream",
          "name": "stdout",
          "text": [
            "[4, 4, 4, 8, 14, 26, 30, 30, 32, 40, 42, 56, 78, 80]\n",
            "[1, 9, 15, 45]\n"
          ]
        }
      ]
    },
    {
      "cell_type": "code",
      "source": [
        "S=[1,4,8,9,4,14,56,4,32,78,45,30,15,30,42,80,40,26]\n",
        "\n",
        "for num in S:\n",
        "  if num%2==0:\n",
        " \n",
        "    print(num,'is a Even Num')\n",
        "  else:\n",
        "   print(num,'is a Odd Num')"
      ],
      "metadata": {
        "colab": {
          "base_uri": "https://localhost:8080/"
        },
        "id": "m49XIJjYdkrR",
        "outputId": "b87ff662-1973-49dd-e541-8959bc084102"
      },
      "execution_count": null,
      "outputs": [
        {
          "output_type": "stream",
          "name": "stdout",
          "text": [
            "1 is a Odd Num\n",
            "4 is a Even Num\n",
            "8 is a Even Num\n",
            "9 is a Odd Num\n",
            "4 is a Even Num\n",
            "14 is a Even Num\n",
            "56 is a Even Num\n",
            "4 is a Even Num\n",
            "32 is a Even Num\n",
            "78 is a Even Num\n",
            "45 is a Odd Num\n",
            "30 is a Even Num\n",
            "15 is a Odd Num\n",
            "30 is a Even Num\n",
            "42 is a Even Num\n",
            "80 is a Even Num\n",
            "40 is a Even Num\n",
            "26 is a Even Num\n"
          ]
        }
      ]
    },
    {
      "cell_type": "code",
      "source": [
        "sorted(S)"
      ],
      "metadata": {
        "colab": {
          "base_uri": "https://localhost:8080/"
        },
        "id": "Mx6HkUiWdCMa",
        "outputId": "2f66273b-b3ce-4362-c806-d2c83de58341"
      },
      "execution_count": null,
      "outputs": [
        {
          "output_type": "execute_result",
          "data": {
            "text/plain": [
              "[1, 4, 8, 9, 14, 15, 26, 30, 30, 32, 40, 42, 45, 56, 78, 80]"
            ]
          },
          "metadata": {},
          "execution_count": 21
        }
      ]
    },
    {
      "cell_type": "code",
      "source": [
        "A=[1,2,3,4]\n",
        "\n",
        "\n",
        "A.append(50)\n",
        "\n",
        "print(A)"
      ],
      "metadata": {
        "colab": {
          "base_uri": "https://localhost:8080/"
        },
        "id": "OO7-uq-IbGSD",
        "outputId": "b725b2b1-4050-4223-af4b-0e0a7f6f9234"
      },
      "execution_count": null,
      "outputs": [
        {
          "output_type": "stream",
          "name": "stdout",
          "text": [
            "[1, 2, 3, 4, 50]\n"
          ]
        }
      ]
    },
    {
      "cell_type": "code",
      "source": [
        "A.append(1000)\n",
        "\n",
        "print(A)"
      ],
      "metadata": {
        "colab": {
          "base_uri": "https://localhost:8080/"
        },
        "id": "n0RHW8-5cQ3C",
        "outputId": "5b35172a-1b03-401d-977a-9ab8d9e59b95"
      },
      "execution_count": null,
      "outputs": [
        {
          "output_type": "stream",
          "name": "stdout",
          "text": [
            "[1, 2, 3, 4, 50, 1000]\n"
          ]
        }
      ]
    },
    {
      "cell_type": "code",
      "source": [
        "S=[1,4,8,9,4,14,56,4,32,78,45,30,15,30,42,80,40,26,60]\n",
        "L_3=[] #%3\n",
        "L_5=[] #%5\n",
        "L_8=[] #%8\n",
        "L=[]\n",
        "for F in S:\n",
        "  if F%3==0:\n",
        "    L_3.append(F)\n",
        "  if F%5==0:\n",
        "    L_5.append(F)\n",
        "  if F%8==0:\n",
        "    L_8.append(F)\n",
        "  if F%3!=0 and F%5!=0 and F%8!=0 :\n",
        "    L.append(F)\n",
        "print(L_3)\n",
        "print(L_5)\n",
        "print(L_8)\n",
        "print(L)"
      ],
      "metadata": {
        "colab": {
          "base_uri": "https://localhost:8080/"
        },
        "id": "UpIb-p4gcW2x",
        "outputId": "9538bac0-b3b7-4adb-f6a9-d3e1054ab706"
      },
      "execution_count": null,
      "outputs": [
        {
          "output_type": "stream",
          "name": "stdout",
          "text": [
            "[9, 78, 45, 30, 15, 30, 42, 60]\n",
            "[45, 30, 15, 30, 80, 40, 60]\n",
            "[8, 56, 32, 80, 40]\n",
            "[1, 4, 4, 14, 4, 26]\n"
          ]
        }
      ]
    },
    {
      "cell_type": "code",
      "source": [
        "S=[1,2,3,4]\n",
        "\n",
        "S.append('Guvi')\n",
        "S"
      ],
      "metadata": {
        "colab": {
          "base_uri": "https://localhost:8080/"
        },
        "id": "s9ugR4Bhhxn4",
        "outputId": "a71d1ed7-9da5-42c9-d383-e209651b117d"
      },
      "execution_count": null,
      "outputs": [
        {
          "output_type": "execute_result",
          "data": {
            "text/plain": [
              "[1, 2, 3, 4, 'Guvi']"
            ]
          },
          "metadata": {},
          "execution_count": 31
        }
      ]
    },
    {
      "cell_type": "code",
      "source": [
        "S=\"Guvi Geek Network\"  # gUvI gEEk nEtwOrk\n",
        "\n",
        "W=''\n",
        "for i in S:\n",
        "  if i in 'aeiouAEIOU':\n",
        "    W=W+i.upper()\n",
        "  else:\n",
        "    W=W+i.lower()\n",
        "\n",
        "print(W)"
      ],
      "metadata": {
        "colab": {
          "base_uri": "https://localhost:8080/"
        },
        "id": "f7VALAqVii8A",
        "outputId": "5431575f-b241-4c5c-a65e-9520750ab1fc"
      },
      "execution_count": null,
      "outputs": [
        {
          "output_type": "stream",
          "name": "stdout",
          "text": [
            "gUvI gEEk nEtwOrk\n"
          ]
        }
      ]
    },
    {
      "cell_type": "code",
      "source": [
        "S=\"Guvi Geek Network\"\n",
        "\n",
        "W=[]\n",
        "for i in S:\n",
        "  if i in 'aeiouAEIOU':\n",
        "    W.append(i.upper())\n",
        "  else:\n",
        "    W.append(i.lower())\n",
        "\n",
        "print(''.join(W))"
      ],
      "metadata": {
        "colab": {
          "base_uri": "https://localhost:8080/"
        },
        "id": "oXesP6MUnLZR",
        "outputId": "9903147b-5d2f-4829-d24d-98ea083eebaf"
      },
      "execution_count": null,
      "outputs": [
        {
          "output_type": "stream",
          "name": "stdout",
          "text": [
            "gUvI gEEk nEtwOrk\n"
          ]
        }
      ]
    },
    {
      "cell_type": "code",
      "source": [
        "A=\"Guvi\"\n",
        "\n",
        "W=''\n",
        "for i in A:\n",
        "  W=W+i+'*'\n",
        "  print(W)\n"
      ],
      "metadata": {
        "colab": {
          "base_uri": "https://localhost:8080/"
        },
        "id": "U8BsHzhRipnQ",
        "outputId": "0682e154-9b40-4cf6-83ca-fbb919720cb4"
      },
      "execution_count": null,
      "outputs": [
        {
          "output_type": "stream",
          "name": "stdout",
          "text": [
            "G*\n",
            "G*u*\n",
            "G*u*v*\n",
            "G*u*v*i*\n"
          ]
        }
      ]
    },
    {
      "cell_type": "code",
      "source": [
        "#   5 10\n",
        "\n",
        "10\n",
        "10\n",
        "10\n",
        "10\n",
        "10\n",
        "\n"
      ],
      "metadata": {
        "id": "kUMHcbJElbay"
      },
      "execution_count": null,
      "outputs": []
    },
    {
      "cell_type": "code",
      "source": [
        "L=[1,2,3,4,5]\n",
        "  #0 1 2 3 4 \n",
        "len(L)-1"
      ],
      "metadata": {
        "colab": {
          "base_uri": "https://localhost:8080/"
        },
        "id": "de0da_lIpgN0",
        "outputId": "be9f4911-1592-4746-8496-57e92645087d"
      },
      "execution_count": null,
      "outputs": [
        {
          "output_type": "execute_result",
          "data": {
            "text/plain": [
              "5"
            ]
          },
          "metadata": {},
          "execution_count": 53
        }
      ]
    },
    {
      "cell_type": "code",
      "source": [
        "#0 to 10\n",
        "\n",
        "for i in range(0,10):\n",
        "  print(i)"
      ],
      "metadata": {
        "colab": {
          "base_uri": "https://localhost:8080/"
        },
        "id": "BM5bsRlspJ8F",
        "outputId": "f19fd2a5-27ab-4038-e874-18265ecf6364"
      },
      "execution_count": null,
      "outputs": [
        {
          "output_type": "stream",
          "name": "stdout",
          "text": [
            "0\n",
            "1\n",
            "2\n",
            "3\n",
            "4\n",
            "5\n",
            "6\n",
            "7\n",
            "8\n",
            "9\n"
          ]
        }
      ]
    },
    {
      "cell_type": "code",
      "source": [
        "for i in range(3,10+1):\n",
        "   print(i)\n",
        "\n"
      ],
      "metadata": {
        "colab": {
          "base_uri": "https://localhost:8080/"
        },
        "id": "FSOd5VB7rUvn",
        "outputId": "97235489-f95b-4a86-f3cd-301300e002b4"
      },
      "execution_count": null,
      "outputs": [
        {
          "output_type": "stream",
          "name": "stdout",
          "text": [
            "3\n",
            "4\n",
            "5\n",
            "6\n",
            "7\n",
            "8\n",
            "9\n",
            "10\n"
          ]
        }
      ]
    },
    {
      "cell_type": "code",
      "source": [
        "# 4 7 10 13 16 19 22...40\n",
        "\n",
        "for i in range(4,40+1,3):\n",
        "  print(i)"
      ],
      "metadata": {
        "colab": {
          "base_uri": "https://localhost:8080/"
        },
        "id": "hM_eD2xJrlDd",
        "outputId": "07d54c3f-0dd9-4b50-e4b5-5a394c8523db"
      },
      "execution_count": null,
      "outputs": [
        {
          "output_type": "stream",
          "name": "stdout",
          "text": [
            "4\n",
            "7\n",
            "10\n",
            "13\n",
            "16\n",
            "19\n",
            "22\n",
            "25\n",
            "28\n",
            "31\n",
            "34\n",
            "37\n",
            "40\n"
          ]
        }
      ]
    },
    {
      "cell_type": "code",
      "source": [
        "#100 to 80\n",
        "\n",
        "for i in range(100,80-1,-7):\n",
        "  print(i)"
      ],
      "metadata": {
        "colab": {
          "base_uri": "https://localhost:8080/"
        },
        "id": "wxJlPi76sx3C",
        "outputId": "b79821fc-5a36-4553-c5aa-67a6e42a7460"
      },
      "execution_count": null,
      "outputs": [
        {
          "output_type": "stream",
          "name": "stdout",
          "text": [
            "100\n",
            "93\n",
            "86\n"
          ]
        }
      ]
    },
    {
      "cell_type": "code",
      "source": [
        "x,y=list(map(int,input().split())) \n",
        "\n",
        "for i in range(1,x+1): \n",
        "  print(y)"
      ],
      "metadata": {
        "colab": {
          "base_uri": "https://localhost:8080/"
        },
        "id": "aMeu9lyspcns",
        "outputId": "5ace1c9f-8d9c-4d2d-c1f4-713b46c8e4e8"
      },
      "execution_count": null,
      "outputs": [
        {
          "output_type": "stream",
          "name": "stdout",
          "text": [
            "4 6\n",
            "6\n",
            "6\n",
            "6\n",
            "6\n"
          ]
        }
      ]
    },
    {
      "cell_type": "code",
      "source": [
        "x,y=list(map(int,input().split())) \n",
        "print(x)\n",
        "print(y)"
      ],
      "metadata": {
        "colab": {
          "base_uri": "https://localhost:8080/"
        },
        "id": "2VV-rmWZv7-u",
        "outputId": "10f7848a-a99a-46a5-86df-dea3473c0b41"
      },
      "execution_count": null,
      "outputs": [
        {
          "output_type": "stream",
          "name": "stdout",
          "text": [
            "5 10\n",
            "5\n",
            "10\n"
          ]
        }
      ]
    },
    {
      "cell_type": "code",
      "source": [
        "L=[10,5,0,6,9,10]\n",
        "sorted(L,reverse=True)"
      ],
      "metadata": {
        "colab": {
          "base_uri": "https://localhost:8080/"
        },
        "id": "OMPKhVKrwcyf",
        "outputId": "9e9ea695-c402-45cc-d04e-19f925325368"
      },
      "execution_count": null,
      "outputs": [
        {
          "output_type": "execute_result",
          "data": {
            "text/plain": [
              "[10, 10, 9, 6, 5, 0]"
            ]
          },
          "metadata": {},
          "execution_count": 80
        }
      ]
    },
    {
      "cell_type": "code",
      "source": [
        "A,B=x\n",
        "\n",
        "print(A)\n",
        "print(B)"
      ],
      "metadata": {
        "colab": {
          "base_uri": "https://localhost:8080/"
        },
        "id": "Hbom78PAwBjF",
        "outputId": "4a54b3a7-e5f8-4287-fe77-6187d6d232ee"
      },
      "execution_count": null,
      "outputs": [
        {
          "output_type": "stream",
          "name": "stdout",
          "text": [
            "5\n",
            "6\n"
          ]
        }
      ]
    },
    {
      "cell_type": "code",
      "source": [
        "S=[11,12,13,14,51,16,17,18,19]\n",
        "\n",
        "for i in range(0,len(S)):\n",
        "  print(S[i])"
      ],
      "metadata": {
        "colab": {
          "base_uri": "https://localhost:8080/"
        },
        "id": "uXycxlUJqbdv",
        "outputId": "4aba3e47-007e-465c-81be-3fdcefbaef3c"
      },
      "execution_count": null,
      "outputs": [
        {
          "output_type": "stream",
          "name": "stdout",
          "text": [
            "11\n",
            "12\n",
            "13\n",
            "14\n",
            "51\n",
            "16\n",
            "17\n",
            "18\n",
            "19\n"
          ]
        }
      ]
    },
    {
      "cell_type": "code",
      "source": [
        "S[8]"
      ],
      "metadata": {
        "colab": {
          "base_uri": "https://localhost:8080/"
        },
        "id": "b8MulXx1t8Zl",
        "outputId": "24c11c7f-0b30-4ce0-f28e-8ee44c7946ad"
      },
      "execution_count": null,
      "outputs": [
        {
          "output_type": "execute_result",
          "data": {
            "text/plain": [
              "9"
            ]
          },
          "metadata": {},
          "execution_count": 67
        }
      ]
    },
    {
      "cell_type": "code",
      "source": [
        "S=[1,4,8,9,4,14,56,4,32,78,45,30,15,30,42,80,40,26]\n",
        "\n",
        "\n",
        "Even=[]\n",
        "Odd=[]\n",
        "\n",
        "# use range function to complete\n",
        "\n",
        "for i in range(0,len(S)):\n",
        "  \n",
        "  if S[i]%2==0:\n",
        "    Even.append(S[i])\n",
        "  else:\n",
        "    Odd.append(S[i])\n",
        "\n",
        "print(Odd)\n",
        "\n",
        "print(Even)"
      ],
      "metadata": {
        "id": "fHKguOD2uB5j",
        "colab": {
          "base_uri": "https://localhost:8080/"
        },
        "outputId": "338aab23-a6dd-44c1-e522-67b8bf525ce6"
      },
      "execution_count": null,
      "outputs": [
        {
          "output_type": "stream",
          "name": "stdout",
          "text": [
            "[1, 9, 45, 15]\n",
            "[4, 8, 4, 14, 56, 4, 32, 78, 30, 30, 42, 80, 40, 26]\n"
          ]
        }
      ]
    },
    {
      "cell_type": "code",
      "source": [
        "S=[1,4,8,9,4,14,56,4,32,78,45,30,15,30,42,80,40,26]\n",
        "\n",
        "Even_Ele_index=[]\n",
        "\n",
        "for i in S:\n",
        "  if i%2==0:\n",
        "    Even_Ele_index.append(S.index(i))\n",
        "\n",
        "Even_Ele_index"
      ],
      "metadata": {
        "colab": {
          "base_uri": "https://localhost:8080/"
        },
        "id": "WZX5Aqydo1Sm",
        "outputId": "7b32b31a-945a-46f1-df82-a4f979f7ebf7"
      },
      "execution_count": null,
      "outputs": [
        {
          "output_type": "execute_result",
          "data": {
            "text/plain": [
              "[1, 2, 1, 5, 6, 1, 8, 9, 11, 11, 14, 15, 16, 17]"
            ]
          },
          "metadata": {},
          "execution_count": 8
        }
      ]
    },
    {
      "cell_type": "code",
      "source": [
        "S=[1,4,8,9,4,14,56,4,32,78,45,30,15,30,42,80,40,26]\n",
        "\n",
        "Even_Ele_index=[]\n",
        "\n",
        "for i in range(0,len(S)):\n",
        "  if S[i]%2==0:\n",
        "    Even_Ele_index.append(i)\n",
        "\n",
        "Even_Ele_index"
      ],
      "metadata": {
        "colab": {
          "base_uri": "https://localhost:8080/"
        },
        "id": "E-5IehNzqqc4",
        "outputId": "a3cbb4ae-81bf-496f-a03c-fd138306bfb6"
      },
      "execution_count": null,
      "outputs": [
        {
          "output_type": "execute_result",
          "data": {
            "text/plain": [
              "[1, 2, 4, 5, 6, 7, 8, 9, 11, 13, 14, 15, 16, 17]"
            ]
          },
          "metadata": {},
          "execution_count": 11
        }
      ]
    },
    {
      "cell_type": "code",
      "source": [
        "#Zip Function\n",
        "\n",
        "A=[1,2,3,4,5,6]\n",
        "B=[10,20,30,40,50,100,500]\n",
        "\n",
        "for i,j in zip(A,B):\n",
        "  print(i+j)"
      ],
      "metadata": {
        "colab": {
          "base_uri": "https://localhost:8080/"
        },
        "id": "b_WDnkcDqhaF",
        "outputId": "60dbf94f-1f94-4b60-82c8-1118a3b6be19"
      },
      "execution_count": null,
      "outputs": [
        {
          "output_type": "stream",
          "name": "stdout",
          "text": [
            "11\n",
            "22\n",
            "33\n",
            "44\n",
            "55\n",
            "106\n"
          ]
        }
      ]
    },
    {
      "cell_type": "code",
      "source": [
        "Product={'Pro_Name':['Sugar','Salt','Rice','Dhall','Oil'],\n",
        "         'Pro_Qty':[4,2,20,10,5],\n",
        "         'Pro_Price':[40,20,60,120,180]}\n",
        "\n",
        "Product"
      ],
      "metadata": {
        "colab": {
          "base_uri": "https://localhost:8080/"
        },
        "id": "WHsqOe_Ts8ZM",
        "outputId": "204da867-33a3-40db-925d-3aa370fdef6c"
      },
      "execution_count": null,
      "outputs": [
        {
          "output_type": "execute_result",
          "data": {
            "text/plain": [
              "{'Pro_Name': ['Sugar', 'Salt', 'Rice', 'Dhall', 'Oil'],\n",
              " 'Pro_Price': [40, 20, 60, 120, 180],\n",
              " 'Pro_Qty': [4, 2, 20, 10, 5]}"
            ]
          },
          "metadata": {},
          "execution_count": 16
        }
      ]
    },
    {
      "cell_type": "code",
      "source": [
        "Product['Total_Price']=[]\n",
        "Product"
      ],
      "metadata": {
        "colab": {
          "base_uri": "https://localhost:8080/"
        },
        "id": "NExbxdj3uD2N",
        "outputId": "03cb0892-2c32-4075-9b08-6ca23d67de49"
      },
      "execution_count": null,
      "outputs": [
        {
          "output_type": "execute_result",
          "data": {
            "text/plain": [
              "{'Pro_Name': ['Sugar', 'Salt', 'Rice', 'Dhall', 'Oil'],\n",
              " 'Pro_Price': [40, 20, 60, 120, 180],\n",
              " 'Pro_Qty': [4, 2, 20, 10, 5],\n",
              " 'Total_Price': []}"
            ]
          },
          "metadata": {},
          "execution_count": 17
        }
      ]
    },
    {
      "cell_type": "code",
      "source": [
        "for P,Q in zip(Product['Pro_Price'],Product['Pro_Qty']):\n",
        "\n",
        "  TP=P*Q\n",
        "  Product['Total_Price'].append(TP)\n",
        "\n",
        "Product"
      ],
      "metadata": {
        "colab": {
          "base_uri": "https://localhost:8080/"
        },
        "id": "U_PoL9R_ug4X",
        "outputId": "9a64b73a-cf10-4b8c-be61-3dbbd56c2213"
      },
      "execution_count": null,
      "outputs": [
        {
          "output_type": "execute_result",
          "data": {
            "text/plain": [
              "{'Pro_Name': ['Sugar', 'Salt', 'Rice', 'Dhall', 'Oil'],\n",
              " 'Pro_Price': [40, 20, 60, 120, 180],\n",
              " 'Pro_Qty': [4, 2, 20, 10, 5],\n",
              " 'Total_Price': [160, 40, 1200, 1200, 900]}"
            ]
          },
          "metadata": {},
          "execution_count": 18
        }
      ]
    },
    {
      "cell_type": "code",
      "source": [
        "Product={'Pro_Name':['Sugar','Salt','Rice','Dhall','Oil'],\n",
        "         'Pro_Qty':[4,2,20,10,5],\n",
        "         'Pro_Price':[40,20,60,120,180]}\n",
        "\n",
        "Product"
      ],
      "metadata": {
        "colab": {
          "base_uri": "https://localhost:8080/"
        },
        "id": "xaRzOwot0jsQ",
        "outputId": "c6aeb0a0-2e1a-4534-956e-e4afbc05a161"
      },
      "execution_count": null,
      "outputs": [
        {
          "output_type": "execute_result",
          "data": {
            "text/plain": [
              "{'Pro_Name': ['Sugar', 'Salt', 'Rice', 'Dhall', 'Oil'],\n",
              " 'Pro_Price': [40, 20, 60, 120, 180],\n",
              " 'Pro_Qty': [4, 2, 20, 10, 5]}"
            ]
          },
          "metadata": {},
          "execution_count": 21
        }
      ]
    },
    {
      "cell_type": "code",
      "source": [
        "GST_5=['Salt','Rice','Milk','Curd']  #5% Gst\n",
        "GST_12=['Sugar','Dhall','Perfume','Pickle','Toothpaste'] #12% Gst\n",
        "GST_18=['Ghee','Oil','Butter','Cheese','Shampoo'] #18% Gst\n",
        "\n",
        "Product['Total_Price']=[]\n",
        "\n",
        "Product['Total_Price with GST']=[]\n",
        "\n",
        "for P,Q,N in zip(Product['Pro_Price'],Product['Pro_Qty'],Product['Pro_Name']):\n",
        "  TP=P*Q\n",
        "  Product['Total_Price'].append(TP)\n",
        "\n",
        "  if N in GST_5:\n",
        "    GP=TP+(TP*0.05)\n",
        "    Product['Total_Price with GST'].append(GP)\n",
        "  elif N in GST_12:\n",
        "    GP=TP+(TP*0.12)\n",
        "    Product['Total_Price with GST'].append(GP)\n",
        "  elif N in GST_18:\n",
        "    GP=TP+(TP*0.18)\n",
        "    Product['Total_Price with GST'].append(GP)\n",
        "Product"
      ],
      "metadata": {
        "colab": {
          "base_uri": "https://localhost:8080/"
        },
        "id": "6sJtcOTVvLb1",
        "outputId": "ac915dc6-297d-459a-ac55-1a93e3f6af5b"
      },
      "execution_count": null,
      "outputs": [
        {
          "output_type": "execute_result",
          "data": {
            "text/plain": [
              "{'Pro_Name': ['Sugar', 'Salt', 'Rice', 'Dhall', 'Oil'],\n",
              " 'Pro_Price': [40, 20, 60, 120, 180],\n",
              " 'Pro_Qty': [4, 2, 20, 10, 5],\n",
              " 'Total_Price': [160, 40, 1200, 1200, 900],\n",
              " 'Total_Price with GST': [179.2, 42.0, 1260.0, 1344.0, 1062.0]}"
            ]
          },
          "metadata": {},
          "execution_count": 23
        }
      ]
    },
    {
      "cell_type": "code",
      "source": [
        "sum(Product['Total_Price with GST'])"
      ],
      "metadata": {
        "colab": {
          "base_uri": "https://localhost:8080/"
        },
        "id": "NH4oNO6RwcGF",
        "outputId": "7d12de75-131e-4be8-fbb4-1b4db4f85827"
      },
      "execution_count": null,
      "outputs": [
        {
          "output_type": "execute_result",
          "data": {
            "text/plain": [
              "3887.2"
            ]
          },
          "metadata": {},
          "execution_count": 26
        }
      ]
    },
    {
      "cell_type": "code",
      "source": [
        "sum(Product['Total_Price'])"
      ],
      "metadata": {
        "colab": {
          "base_uri": "https://localhost:8080/"
        },
        "id": "PQNAHrWx1-94",
        "outputId": "8fa206b5-4b22-4996-ad7a-65bf2febd9f1"
      },
      "execution_count": null,
      "outputs": [
        {
          "output_type": "execute_result",
          "data": {
            "text/plain": [
              "3500"
            ]
          },
          "metadata": {},
          "execution_count": 27
        }
      ]
    },
    {
      "cell_type": "code",
      "source": [
        "\n",
        "for P,Q,N in zip(Product['Pro_Price'],Product['Pro_Qty'],Product['Pro_Name']):\n",
        "\n",
        "  print(f'{N} Rs{P} Qty {Q} Kg')\n",
        "\n",
        "print(\"Bill Amount is with Gst Rs : \",sum(Product['Total_Price with GST']))"
      ],
      "metadata": {
        "colab": {
          "base_uri": "https://localhost:8080/"
        },
        "id": "ZNCnyX_82fS_",
        "outputId": "3a373445-cec6-4385-9808-8cfbd0ad3807"
      },
      "execution_count": null,
      "outputs": [
        {
          "output_type": "stream",
          "name": "stdout",
          "text": [
            "Sugar Rs40 Qty 4 Kg\n",
            "Salt Rs20 Qty 2 Kg\n",
            "Rice Rs60 Qty 20 Kg\n",
            "Dhall Rs120 Qty 10 Kg\n",
            "Oil Rs180 Qty 5 Kg\n",
            "Bill Amount is with Gst Rs :  3887.2\n"
          ]
        }
      ]
    },
    {
      "cell_type": "markdown",
      "source": [
        "While Loop"
      ],
      "metadata": {
        "id": "2qxvHc-J5BXq"
      }
    },
    {
      "cell_type": "code",
      "source": [
        "#0 to 10\n",
        "\n",
        "for i in range(0,11):\n",
        "  print(i)"
      ],
      "metadata": {
        "colab": {
          "base_uri": "https://localhost:8080/"
        },
        "id": "aX_M6Kqo3Wp2",
        "outputId": "fcc65e91-d2c8-424d-eeef-c9799704d681"
      },
      "execution_count": null,
      "outputs": [
        {
          "output_type": "stream",
          "name": "stdout",
          "text": [
            "0\n",
            "1\n",
            "2\n",
            "3\n",
            "4\n",
            "5\n",
            "6\n",
            "7\n",
            "8\n",
            "9\n",
            "10\n"
          ]
        }
      ]
    },
    {
      "cell_type": "code",
      "source": [
        "\n",
        "i=0\n",
        "\n",
        "while i<=5:\n",
        "  print(i)\n",
        "  i=i+1"
      ],
      "metadata": {
        "colab": {
          "base_uri": "https://localhost:8080/"
        },
        "id": "juAvGsz35PXh",
        "outputId": "35fcd0a1-5853-4c43-dc98-83cbe674527d"
      },
      "execution_count": null,
      "outputs": [
        {
          "output_type": "stream",
          "name": "stdout",
          "text": [
            "0\n",
            "1\n",
            "2\n",
            "3\n",
            "4\n",
            "5\n"
          ]
        }
      ]
    },
    {
      "cell_type": "code",
      "source": [
        "i=0\n",
        "\n",
        "while i<=5:\n",
        "  i=i+1\n",
        "  print(i)\n",
        "  "
      ],
      "metadata": {
        "colab": {
          "base_uri": "https://localhost:8080/"
        },
        "id": "bwJ1jp5c5c_m",
        "outputId": "c40bc71d-1d11-405b-8103-0c0ae3ce865e"
      },
      "execution_count": null,
      "outputs": [
        {
          "output_type": "stream",
          "name": "stdout",
          "text": [
            "1\n",
            "2\n",
            "3\n",
            "4\n",
            "5\n",
            "6\n"
          ]
        }
      ]
    },
    {
      "cell_type": "code",
      "source": [
        "i=0\n",
        "\n",
        "while i<=25:\n",
        "  i=i+3\n",
        "  print(i)\n",
        "  i=i+1\n",
        "  "
      ],
      "metadata": {
        "colab": {
          "base_uri": "https://localhost:8080/"
        },
        "id": "ncArCl6U7eI4",
        "outputId": "eaa778fb-ba4a-4f81-eb2c-edb4c31a5f29"
      },
      "execution_count": null,
      "outputs": [
        {
          "output_type": "stream",
          "name": "stdout",
          "text": [
            "3\n",
            "7\n",
            "11\n",
            "15\n",
            "19\n",
            "23\n",
            "27\n"
          ]
        }
      ]
    },
    {
      "cell_type": "code",
      "source": [
        "S=[1,4,8,9,4,14,56,4,32,78,45,30,15,30,42,80,40,26]\n",
        "len(S)"
      ],
      "metadata": {
        "colab": {
          "base_uri": "https://localhost:8080/"
        },
        "id": "5ZIRnuhx9lmn",
        "outputId": "fcf17160-67b7-4ce8-8202-b2700a9f759f"
      },
      "execution_count": null,
      "outputs": [
        {
          "output_type": "execute_result",
          "data": {
            "text/plain": [
              "18"
            ]
          },
          "metadata": {},
          "execution_count": 42
        }
      ]
    },
    {
      "cell_type": "code",
      "source": [
        "S=[1,4,8,9,4,14,56,4,32,78,45,30,15,30,42,80,40,26]\n",
        "\n",
        "\n",
        "Even=[]\n",
        "Odd=[]\n",
        "i=0\n",
        "while i<len(S):\n",
        "\n",
        "  if S[i]%2==0:\n",
        "    Even.append(S[i])\n",
        "    \n",
        "  else:\n",
        "    Odd.append(S[i])\n",
        "\n",
        "    \n",
        "  i=i+1\n",
        "    \n",
        "  \n",
        "  \n",
        "print(Even)\n",
        "print(Odd)"
      ],
      "metadata": {
        "colab": {
          "base_uri": "https://localhost:8080/"
        },
        "id": "-eh18qbz8vn9",
        "outputId": "efdba769-6d8c-4b2c-fc38-3ac379bb0652"
      },
      "execution_count": null,
      "outputs": [
        {
          "output_type": "stream",
          "name": "stdout",
          "text": [
            "[4, 8, 4, 14, 56, 4, 32, 78, 30, 30, 42, 80, 40, 26]\n",
            "[1, 9, 45, 15]\n"
          ]
        }
      ]
    },
    {
      "cell_type": "code",
      "source": [
        "S=[1,2,5,6,7,9,5,3,1,6,4,99,25,63]\n",
        "\n",
        "i=0\n",
        "\n",
        "while i<len(S):\n",
        "  if S[i]==6:\n",
        "    break   \n",
        "\n",
        "  else:\n",
        "    print(S[i])\n",
        "    i=i+1 \n",
        "  \n"
      ],
      "metadata": {
        "colab": {
          "base_uri": "https://localhost:8080/"
        },
        "id": "8s8KdyUj9Xig",
        "outputId": "e4ccfd74-9c3e-46ae-dce4-c644e5ed0170"
      },
      "execution_count": null,
      "outputs": [
        {
          "output_type": "stream",
          "name": "stdout",
          "text": [
            "1\n",
            "2\n",
            "5\n"
          ]
        }
      ]
    },
    {
      "cell_type": "code",
      "source": [
        "S=[1,2,5,6,7,9,5,3,1,6,4,99,25,63]\n",
        "\n",
        "i=0\n",
        "\n",
        "while i<len(S):\n",
        "  if S[i]==6:\n",
        "    pass   \n",
        "    \n",
        "  else:\n",
        "    print(S[i])\n",
        "  i=i+1   "
      ],
      "metadata": {
        "colab": {
          "base_uri": "https://localhost:8080/"
        },
        "id": "TMOTw12WAHfv",
        "outputId": "bfc4939d-563b-493d-b23a-e831ee8a9c3a"
      },
      "execution_count": null,
      "outputs": [
        {
          "output_type": "stream",
          "name": "stdout",
          "text": [
            "1\n",
            "2\n",
            "5\n",
            "7\n",
            "9\n",
            "5\n",
            "3\n",
            "1\n",
            "4\n",
            "99\n",
            "25\n",
            "63\n"
          ]
        }
      ]
    },
    {
      "cell_type": "code",
      "source": [
        "S=[1,2,5,6,7,9,5,3,1,6,4,99,25,63]\n",
        "\n",
        "i=0\n",
        "\n",
        "while i<len(S):\n",
        "  if S[i]==6:\n",
        "    i=i+1\n",
        "    continue  \n",
        "    \n",
        "  else:\n",
        "    print(S[i])\n",
        "  i=i+1   "
      ],
      "metadata": {
        "colab": {
          "base_uri": "https://localhost:8080/"
        },
        "id": "gLuCyNUjAq4D",
        "outputId": "183e769f-da94-4068-9cf7-c2f8c11108fa"
      },
      "execution_count": null,
      "outputs": [
        {
          "output_type": "stream",
          "name": "stdout",
          "text": [
            "1\n",
            "2\n",
            "5\n",
            "7\n",
            "9\n",
            "5\n",
            "3\n",
            "1\n",
            "4\n",
            "99\n",
            "25\n",
            "63\n"
          ]
        }
      ]
    },
    {
      "cell_type": "markdown",
      "source": [
        "#Task"
      ],
      "metadata": {
        "id": "jCBMdSmwCxVL"
      }
    },
    {
      "cell_type": "markdown",
      "source": [
        "Consider today is Sunday,In a restaurant, too much crowd in the cash counter the cashier needs some help to calculate the bills.\n",
        "that restaurant has different recipes they are,\n",
        "Menu:-\n",
        "oniondosa-90 rs\n",
        "plaindosa-40 rs\n",
        "ravadosa-75 rs\n",
        "idli-10 rs\n",
        "vada-5 rs\n",
        "poori-30 rs\n",
        "chapathi -30 rs\n",
        "pongal-35 rs\n",
        "tea-25 rs\n",
        "coffee-35 rs\n",
        "meals-75 rs\n",
        "\n",
        "Note: The price details described above is without GST. You need to add 5 percent of GST for the total amount of a bill.\n",
        "\n",
        "If there is no recipe in the menu, print \"Sorry, Only recipes on the menu!\"\n",
        "\n",
        "Input:\n",
        "\n",
        "Single line consists of recipes in string and with count in integer as shown below.\n",
        "\n",
        "Output:\n",
        "\n",
        "Print output as \"Total Price(GST inclusive):Rs xx.x\"\n",
        "\n",
        "Sample Testcase:\n",
        "\n",
        "Input:\n",
        "\n",
        "vada 2 coffee 1\n",
        "\n",
        "Output:\n",
        "\n",
        "Total Price(GST inclusive):Rs 47.25"
      ],
      "metadata": {
        "id": "AyOXAXHqCuqq"
      }
    },
    {
      "cell_type": "code",
      "source": [
        "45*0.05\n"
      ],
      "metadata": {
        "colab": {
          "base_uri": "https://localhost:8080/"
        },
        "id": "Uk5LFympBCVZ",
        "outputId": "e6243094-3361-437e-fbcc-f17f2b34c140"
      },
      "execution_count": null,
      "outputs": [
        {
          "output_type": "execute_result",
          "data": {
            "text/plain": [
              "2.25"
            ]
          },
          "metadata": {},
          "execution_count": 2
        }
      ]
    },
    {
      "cell_type": "code",
      "source": [
        "food=input().split()\n",
        "\n",
        "Qty=[]\n",
        "Item=[]\n",
        "\n",
        "\n",
        "for i in food:\n",
        "  if i.isalpha():\n",
        "    Item.append(i)\n",
        "  else:\n",
        "    Qty.append(int(i))\n",
        "\n",
        "print(Item)\n",
        "print(Qty)"
      ],
      "metadata": {
        "colab": {
          "base_uri": "https://localhost:8080/"
        },
        "id": "NqVNFVLLDTSI",
        "outputId": "696fa1ce-4881-4d36-e36a-41d2bf426dcc"
      },
      "execution_count": null,
      "outputs": [
        {
          "output_type": "stream",
          "name": "stdout",
          "text": [
            "Rice 2 sugar 1 coffee 2 dhall 5\n",
            "['Rice', 'sugar', 'coffee', 'dhall']\n",
            "[2, 1, 2, 5]\n"
          ]
        }
      ]
    },
    {
      "cell_type": "code",
      "source": [
        "S=\"Guvi geek\"\n",
        "\n",
        "S.replace('e','*')"
      ],
      "metadata": {
        "colab": {
          "base_uri": "https://localhost:8080/",
          "height": 36
        },
        "id": "0EMKAoIaD26S",
        "outputId": "67d134fd-92b1-47e0-ed34-f9d37ea1edf6"
      },
      "execution_count": null,
      "outputs": [
        {
          "output_type": "execute_result",
          "data": {
            "text/plain": [
              "'Guvi g**k'"
            ],
            "application/vnd.google.colaboratory.intrinsic+json": {
              "type": "string"
            }
          },
          "metadata": {},
          "execution_count": 8
        }
      ]
    },
    {
      "cell_type": "code",
      "source": [
        ""
      ],
      "metadata": {
        "id": "Cb0Y3ixEFYqR"
      },
      "execution_count": null,
      "outputs": []
    }
  ]
}