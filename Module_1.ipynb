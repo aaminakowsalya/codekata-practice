{
 "cells": [
  {
   "cell_type": "code",
   "execution_count": 1,
   "metadata": {},
   "outputs": [
    {
     "name": "stdout",
     "output_type": "stream",
     "text": [
      "Hello World !\n"
     ]
    }
   ],
   "source": [
    "# print() Statement Example\n",
    "print('Hello World !')"
   ]
  },
  {
   "cell_type": "code",
   "execution_count": 3,
   "metadata": {},
   "outputs": [
    {
     "name": "stdout",
     "output_type": "stream",
     "text": [
      "Value stored in counter : 100\n",
      "Type of counter variable : <class 'int'>\n",
      "Value stored in miles : 1000.0\n",
      "Type of miles variable : <class 'float'>\n",
      "Value stored in name : Machine Learning !\n",
      "Type of name variable : <class 'str'>\n",
      "Value stored in boolean : True\n",
      "Type of boolean variable : <class 'bool'>\n"
     ]
    }
   ],
   "source": [
    "# Examples of variables\n",
    "counter = 100\n",
    "miles = 1000.0\n",
    "name = 'Machine Learning !'\n",
    "boolean = True\n",
    "\n",
    "# printing the values and data types\n",
    "print('Value stored in counter :', counter)\n",
    "print('Type of counter variable :', type(counter))\n",
    "\n",
    "print('Value stored in miles :', miles)\n",
    "print('Type of miles variable :', type(miles))\n",
    "\n",
    "print('Value stored in name :', name)\n",
    "print('Type of name variable :', type(name))\n",
    "\n",
    "print('Value stored in boolean :', boolean)\n",
    "print('Type of boolean variable :', type(boolean))"
   ]
  },
  {
   "cell_type": "code",
   "execution_count": 4,
   "metadata": {},
   "outputs": [
    {
     "name": "stdout",
     "output_type": "stream",
     "text": [
      "Value stored in counter : 100\n",
      "Type of counter variable : <class 'str'>\n"
     ]
    }
   ],
   "source": [
    "# Conversion of data types\n",
    "print('Value stored in counter :', str(counter))\n",
    "print('Type of counter variable :', type(str(counter)))"
   ]
  },
  {
   "cell_type": "code",
   "execution_count": null,
   "metadata": {},
   "outputs": [],
   "source": [
    "# Similarly, int() and float() are used for converting the data type."
   ]
  },
  {
   "cell_type": "code",
   "execution_count": 5,
   "metadata": {},
   "outputs": [
    {
     "name": "stdout",
     "output_type": "stream",
     "text": [
      "Sum of x and y : 12\n"
     ]
    }
   ],
   "source": [
    "# Arithmetic Operators Example 1\n",
    "x = 5\n",
    "y = 7\n",
    "print('Sum of x and y :', x+y)"
   ]
  },
  {
   "cell_type": "code",
   "execution_count": 6,
   "metadata": {},
   "outputs": [
    {
     "name": "stdout",
     "output_type": "stream",
     "text": [
      "Difference of x and y : -2\n"
     ]
    }
   ],
   "source": [
    "# Arithmetic Operators Example 2\n",
    "x = 5\n",
    "y = 7\n",
    "print('Difference of x and y :', x-y)"
   ]
  },
  {
   "cell_type": "code",
   "execution_count": 7,
   "metadata": {},
   "outputs": [
    {
     "name": "stdout",
     "output_type": "stream",
     "text": [
      "Quotient of x divided by y : 0.7142857142857143\n"
     ]
    }
   ],
   "source": [
    "# Arithmetic Operators Example 3\n",
    "x = 5\n",
    "y = 7\n",
    "print('Quotient of x divided by y :', x/y)"
   ]
  },
  {
   "cell_type": "code",
   "execution_count": 9,
   "metadata": {},
   "outputs": [
    {
     "name": "stdout",
     "output_type": "stream",
     "text": [
      "Floor Division Results : 1\n"
     ]
    }
   ],
   "source": [
    "# Arithmetic Operators Example 4\n",
    "x = 5\n",
    "y = 7\n",
    "print('Floor Division Results :', (x*2)//y)"
   ]
  },
  {
   "cell_type": "code",
   "execution_count": 11,
   "metadata": {},
   "outputs": [
    {
     "name": "stdout",
     "output_type": "stream",
     "text": [
      "Exponent Operator : 78125\n"
     ]
    }
   ],
   "source": [
    "# Arithmetic Operators Example 5\n",
    "x = 5\n",
    "y = 7\n",
    "print('Exponent Operator :', x**y)"
   ]
  },
  {
   "cell_type": "code",
   "execution_count": 13,
   "metadata": {},
   "outputs": [
    {
     "name": "stdout",
     "output_type": "stream",
     "text": [
      "OR Operation Results : 14\n"
     ]
    }
   ],
   "source": [
    "# Bitwise Operator (OR)\n",
    "a = 10\n",
    "b = 4 \n",
    "print('OR Operation Results :', (a | b))"
   ]
  },
  {
   "cell_type": "code",
   "execution_count": 15,
   "metadata": {},
   "outputs": [
    {
     "name": "stdout",
     "output_type": "stream",
     "text": [
      "Leftwise Shift : 4\n"
     ]
    }
   ],
   "source": [
    "# Leftwise Bit Shifting\n",
    "x = 2\n",
    "print('Leftwise Shift :', (x << 1))"
   ]
  },
  {
   "cell_type": "code",
   "execution_count": 16,
   "metadata": {},
   "outputs": [
    {
     "name": "stdout",
     "output_type": "stream",
     "text": [
      "True\n",
      "False\n"
     ]
    },
    {
     "name": "stderr",
     "output_type": "stream",
     "text": [
      "<>:4: SyntaxWarning: \"is\" with a literal. Did you mean \"==\"?\n",
      "<>:5: SyntaxWarning: \"is not\" with a literal. Did you mean \"!=\"?\n",
      "<>:4: SyntaxWarning: \"is\" with a literal. Did you mean \"==\"?\n",
      "<>:5: SyntaxWarning: \"is not\" with a literal. Did you mean \"!=\"?\n",
      "<ipython-input-16-477f4543b4d6>:4: SyntaxWarning: \"is\" with a literal. Did you mean \"==\"?\n",
      "  print(t is 5)\n",
      "<ipython-input-16-477f4543b4d6>:5: SyntaxWarning: \"is not\" with a literal. Did you mean \"!=\"?\n",
      "  print(l is not 7)\n"
     ]
    }
   ],
   "source": [
    "# Special Operators\n",
    "t = 5\n",
    "l = 7\n",
    "print(t is 5)\n",
    "print(l is not 7)"
   ]
  },
  {
   "cell_type": "code",
   "execution_count": 17,
   "metadata": {},
   "outputs": [
    {
     "name": "stdout",
     "output_type": "stream",
     "text": [
      "True\n",
      "False\n"
     ]
    }
   ],
   "source": [
    "# Special Operators\n",
    "t = 5\n",
    "l = 7\n",
    "print(t == 5)\n",
    "print(l != 7)"
   ]
  },
  {
   "cell_type": "code",
   "execution_count": 18,
   "metadata": {},
   "outputs": [
    {
     "name": "stdout",
     "output_type": "stream",
     "text": [
      "Checking whether 2 is available in list s : False\n",
      "Checking whether 3 is available in list s : True\n"
     ]
    }
   ],
   "source": [
    "# Membership Operator Example\n",
    "s = [1,3,5,7,9,11]\n",
    "print('Checking whether 2 is available in list s :', (2 in s))\n",
    "print('Checking whether 3 is available in list s :', (3 in s))"
   ]
  },
  {
   "cell_type": "code",
   "execution_count": 21,
   "metadata": {},
   "outputs": [
    {
     "name": "stdout",
     "output_type": "stream",
     "text": [
      "a is less than b.\n"
     ]
    }
   ],
   "source": [
    "# If Else Loop Example\n",
    "a = 8\n",
    "b = 9\n",
    "if a > b:\n",
    "    print('a is greater than b.')\n",
    "elif a == b:\n",
    "    print('a and b are equal.')\n",
    "else:\n",
    "    print('a is less than b.')"
   ]
  },
  {
   "cell_type": "code",
   "execution_count": null,
   "metadata": {},
   "outputs": [],
   "source": []
  }
 ],
 "metadata": {
  "kernelspec": {
   "display_name": "Python 3",
   "language": "python",
   "name": "python3"
  },
  "language_info": {
   "codemirror_mode": {
    "name": "ipython",
    "version": 3
   },
   "file_extension": ".py",
   "mimetype": "text/x-python",
   "name": "python",
   "nbconvert_exporter": "python",
   "pygments_lexer": "ipython3",
   "version": "3.8.3"
  }
 },
 "nbformat": 4,
 "nbformat_minor": 4
}
